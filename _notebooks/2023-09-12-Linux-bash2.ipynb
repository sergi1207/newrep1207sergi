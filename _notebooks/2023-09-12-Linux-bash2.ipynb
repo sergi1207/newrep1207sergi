{
 "cells": [
  {
   "cell_type": "code",
   "execution_count": null,
   "metadata": {},
   "outputs": [],
   "source": [
    "---\n",
    "layout: post\n",
    "title: Linux-bash\n",
    "description: Linux Bash\n",
    "type: hacks\n",
    "courses: { compsci: {week: 3} }\n",
    "---"
   ]
  },
  {
   "cell_type": "code",
   "execution_count": 18,
   "metadata": {},
   "outputs": [
    {
     "name": "stdout",
     "output_type": "stream",
     "text": [
      "Python is installed.\n",
      "Ruby is installed.\n",
      "Jupyter is installed.\n"
     ]
    }
   ],
   "source": [
    "%%script bash\n",
    "\n",
    "command_output=\"$(Python --version)\"\n",
    "if [[ \"$command_output\" != \"Python 3.11.5\" ]]; then\n",
    "    echo \"Python is not installed. Installing Python...\"\n",
    "    apt install python\n",
    "else\n",
    "    echo \"Python is installed.\"\n",
    "fi #\n",
    "\n",
    "command_output=\"$(ruby -v)\"\n",
    "if [[ \"$command_output\" != \"ruby 3.1.4p223 (2023-03-30 revision 957bb7cb81) [arm64-darwin22]\" ]]; then\n",
    "    echo \"Ruby is not installed. Installing Ruby...\"\n",
    "    apt install ruby\n",
    "else\n",
    "    echo \"Ruby is installed.\"\n",
    "fi #\n",
    "\n",
    "if command -v jupyter &> /dev/null; then\n",
    "    echo \"Jupyter is installed.\"\n",
    "else\n",
    "    echo \"Jupyter is not installed. Installing Jupyter...\"\n",
    "    # Add your installation command here (e.g., apt install jupyter)\n",
    "    apt install jupyter\n",
    "fi #"
   ]
  }
 ],
 "metadata": {
  "kernelspec": {
   "display_name": "Python 3",
   "language": "python",
   "name": "python3"
  },
  "language_info": {
   "codemirror_mode": {
    "name": "ipython",
    "version": 3
   },
   "file_extension": ".py",
   "mimetype": "text/x-python",
   "name": "python",
   "nbconvert_exporter": "python",
   "pygments_lexer": "ipython3",
   "version": "3.11.5"
  },
  "orig_nbformat": 4
 },
 "nbformat": 4,
 "nbformat_minor": 2
}
